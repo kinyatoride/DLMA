{
 "cells": [
  {
   "cell_type": "markdown",
   "metadata": {},
   "source": [
    "Calculate all combinations of target distances  \n",
    "This is used for ML as label data"
   ]
  },
  {
   "cell_type": "code",
   "execution_count": 1,
   "metadata": {},
   "outputs": [],
   "source": [
    "import os\n",
    "import sys\n",
    "import numpy as np\n",
    "import xarray as xr\n",
    "\n",
    "module_path = os.path.abspath(os.path.join('../src'))\n",
    "if module_path not in sys.path:\n",
    "    sys.path.append(module_path)\n",
    "\n",
    "from utils import to_monthly"
   ]
  },
  {
   "cell_type": "code",
   "execution_count": 2,
   "metadata": {},
   "outputs": [],
   "source": [
    "# Parameters\n",
    "vname = 'sst'\n",
    "grid = '2x2'\n",
    "lat_slice = (-10, 10)\n",
    "lon_slice = (120, 290)\n",
    "data_dir = '../data/cesm2'\n",
    "\n",
    "# Read data\n",
    "f = f'{data_dir}/{vname}_anomaly_{grid}.nc'\n",
    "da = xr.open_dataarray(f)\n",
    "da = da.sel(lat=slice(*lat_slice), lon=slice(*lon_slice))\n",
    "da_month = to_monthly(da)"
   ]
  },
  {
   "cell_type": "code",
   "execution_count": 3,
   "metadata": {},
   "outputs": [],
   "source": [
    "# Rename\n",
    "da_library = da_month.rename({'ens': 'lens', 'year': 'lyear'})\n",
    "\n",
    "# Grid weights\n",
    "wgt = np.cos(np.deg2rad(da.lat))"
   ]
  },
  {
   "cell_type": "code",
   "execution_count": 4,
   "metadata": {},
   "outputs": [
    {
     "name": "stdout",
     "output_type": "stream",
     "text": [
      "1\n",
      "2\n",
      "3\n",
      "4\n",
      "5\n",
      "6\n",
      "7\n",
      "8\n",
      "9\n",
      "10\n",
      "11\n",
      "12\n",
      "13\n",
      "14\n",
      "15\n",
      "16\n",
      "17\n",
      "18\n",
      "19\n",
      "20\n",
      "21\n",
      "22\n",
      "23\n",
      "24\n",
      "25\n",
      "26\n",
      "27\n",
      "28\n",
      "29\n",
      "30\n",
      "31\n",
      "32\n",
      "33\n",
      "34\n",
      "35\n",
      "36\n",
      "37\n",
      "38\n",
      "39\n",
      "40\n"
     ]
    }
   ],
   "source": [
    "%%time\n",
    "msd_enss = []\n",
    "for ens in da_month.ens.data:\n",
    "    print(ens)\n",
    "    msd_years = []\n",
    "    for year in da_month.year.data:\n",
    "        msd = ((da_month.sel(ens=ens, year=year)\n",
    "                - da_library) ** 2\n",
    "                ).weighted(wgt).mean(dim=['lat', 'lon'])\n",
    "        msd_years.append(msd)\n",
    "    msd_enss.append(xr.concat(msd_years, dim='year'))\n",
    "msd = xr.concat(msd_enss, dim='ens')"
   ]
  },
  {
   "cell_type": "code",
   "execution_count": null,
   "metadata": {},
   "outputs": [],
   "source": [
    "# Save\n",
    "encoding = {vname: {'dtype': 'float32'}}\n",
    "outf = f'{data_dir}/target_distance.nc'\n",
    "msd.to_netcdf(outf, encoding=encoding)"
   ]
  }
 ],
 "metadata": {
  "kernelspec": {
   "display_name": "torch",
   "language": "python",
   "name": "python3"
  },
  "language_info": {
   "codemirror_mode": {
    "name": "ipython",
    "version": 3
   },
   "file_extension": ".py",
   "mimetype": "text/x-python",
   "name": "python",
   "nbconvert_exporter": "python",
   "pygments_lexer": "ipython3",
   "version": "3.11.4"
  },
  "orig_nbformat": 4
 },
 "nbformat": 4,
 "nbformat_minor": 2
}
