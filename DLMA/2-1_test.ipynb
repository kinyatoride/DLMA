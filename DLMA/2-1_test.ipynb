{
 "cells": [
  {
   "cell_type": "code",
   "execution_count": 1,
   "metadata": {},
   "outputs": [],
   "source": [
    "import os\n",
    "import sys\n",
    "import json\n",
    "import torch\n",
    "import xarray as xr\n",
    "\n",
    "module_path = os.path.abspath(os.path.join('../src'))\n",
    "if module_path not in sys.path:\n",
    "    sys.path.append(module_path)\n",
    "\n",
    "from loaddata import load_cesm2_by_period\n",
    "from UNet import UNet\n",
    "from testing import test\n",
    "from utils import DotDict\n",
    "from analog import *\n",
    "\n",
    "%load_ext autoreload\n",
    "%autoreload 2"
   ]
  },
  {
   "cell_type": "code",
   "execution_count": 2,
   "metadata": {},
   "outputs": [],
   "source": [
    "# Parameters\n",
    "exp = 'test'\n",
    "out_dir = f'../output/{exp}'\n",
    "data_dir = '../data/cesm2'\n",
    "test_data = 'test'\n",
    "\n",
    "with open(f'{out_dir}/hyperparameters.json', 'r') as f:\n",
    "    hp = json.load(f)\n",
    "    hp = DotDict(hp)\n",
    "\n",
    "periods = {\n",
    "    'library': hp.periods['train'],\n",
    "    'target': hp.periods[test_data],\n",
    "}\n",
    "\n",
    "if test_data == 'train':\n",
    "    insample = True\n",
    "else:\n",
    "    insample = False"
   ]
  },
  {
   "cell_type": "code",
   "execution_count": 3,
   "metadata": {},
   "outputs": [
    {
     "name": "stdout",
     "output_type": "stream",
     "text": [
      "Using cuda device\n"
     ]
    }
   ],
   "source": [
    "# load data for U-Net\n",
    "(datasets, dataloaders, \n",
    " t0_library, t0_mask, \n",
    " t1_library) = load_cesm2_by_period(\n",
    "    data_dir, **hp, shuffle=False)\n",
    "\n",
    "# dimension\n",
    "x, _, _ = datasets['train'][0]\n",
    "n_channels = x.shape[0]\n",
    "\n",
    "# Device\n",
    "device = 'cuda' if torch.cuda.is_available() else 'cpu'\n",
    "print(f'Using {device} device')\n",
    "t0_library = t0_library.to(device)\n",
    "t0_mask = t0_mask.to(device)\n",
    "t1_library = t1_library.to(device)"
   ]
  },
  {
   "cell_type": "code",
   "execution_count": 4,
   "metadata": {},
   "outputs": [
    {
     "name": "stdout",
     "output_type": "stream",
     "text": [
      "test epoch   9: M_MSE = 0.907, MSE = 0.578\n",
      "test epoch  19: M_MSE = 0.847, MSE = 0.551\n",
      "test epoch  29: M_MSE = 0.811, MSE = 0.537\n",
      "test epoch  39: M_MSE = 0.803, MSE = 0.544\n",
      "test epoch  49: M_MSE = 0.797, MSE = 0.538\n",
      "test epoch  51: M_MSE = 0.793, MSE = 0.536\n",
      "test epoch  59: M_MSE = 0.793, MSE = 0.538\n"
     ]
    }
   ],
   "source": [
    "for epoch in range(hp.n_epochs):\n",
    "    f = f'{out_dir}/model_epoch{epoch}.pt'\n",
    "    if not os.path.exists(f):\n",
    "        continue\n",
    "    \n",
    "    # Load model\n",
    "    model = UNet(\n",
    "        in_ch=n_channels, out_ch=n_channels, \n",
    "        init_ch=hp.init_ch, depth=hp.depth,\n",
    "        attention=hp.attention, is_res=hp.is_res,\n",
    "        ).to(device)\n",
    "    model.load_state_dict(torch.load(f))\n",
    "    model.eval()\n",
    "\n",
    "    # Test acc, get analog indices\n",
    "    loss, acc, mse, ma_idx, weights = test(\n",
    "        model, device, dataloaders[test_data], \n",
    "        t0_library, t0_mask, hp.n_sub, t1_library,\n",
    "        n_analog=hp.n_analog, insample=insample,\n",
    "    )\n",
    "    print(f'{exp} epoch {epoch:3d}: M_MSE = {acc:.3f}, MSE = {mse:.3f}')\n",
    "            \n",
    "    # mask land\n",
    "    weights[:, t0_mask.cpu().detach().numpy()] = np.nan\n",
    "\n",
    "    # to xarray\n",
    "    ma_idx = xr.DataArray(ma_idx[:, :100], dims=['sample', 'analog'],\n",
    "                          coords={'sample': datasets[test_data].t0_ds['sample']}\n",
    "                         )\n",
    "    weights = xr.Dataset(\n",
    "        {datasets[test_data].vnames[i]: \n",
    "            (('sample', 'lat', 'lon'), weights[:, i])for i in range(len(hp.vnames))},\n",
    "        coords={dim: datasets[test_data].t0_ds[dim] \n",
    "                for dim in ['sample', 'lat', 'lon']}\n",
    "    )\n",
    "    \n",
    "    # save\n",
    "    ma_idx.astype(float).unstack().astype(int).to_netcdf(f'{out_dir}/ma_index_{test_data}_epoch{epoch}.nc')\n",
    "    weights.unstack().to_netcdf(f'{out_dir}/weight_{test_data}_epoch{epoch}.nc')"
   ]
  },
  {
   "cell_type": "code",
   "execution_count": null,
   "metadata": {},
   "outputs": [],
   "source": []
  }
 ],
 "metadata": {
  "kernelspec": {
   "display_name": "torch",
   "language": "python",
   "name": "python3"
  },
  "language_info": {
   "codemirror_mode": {
    "name": "ipython",
    "version": 3
   },
   "file_extension": ".py",
   "mimetype": "text/x-python",
   "name": "python",
   "nbconvert_exporter": "python",
   "pygments_lexer": "ipython3",
   "version": "3.11.4"
  },
  "orig_nbformat": 4
 },
 "nbformat": 4,
 "nbformat_minor": 2
}
