{
 "cells": [
  {
   "cell_type": "markdown",
   "metadata": {},
   "source": [
    "# Test the significance of improvements from MA"
   ]
  },
  {
   "cell_type": "code",
   "execution_count": 7,
   "metadata": {},
   "outputs": [
    {
     "name": "stdout",
     "output_type": "stream",
     "text": [
      "The autoreload extension is already loaded. To reload it, use:\n",
      "  %reload_ext autoreload\n"
     ]
    }
   ],
   "source": [
    "import os\n",
    "import sys\n",
    "import json\n",
    "import xarray as xr\n",
    "from scipy.stats import permutation_test\n",
    "\n",
    "module_path = os.path.abspath(os.path.join('../src'))\n",
    "if module_path not in sys.path:\n",
    "    sys.path.append(module_path)\n",
    "\n",
    "from utils import *\n",
    "from analog import *\n",
    "from resample import *\n",
    "\n",
    "%load_ext autoreload\n",
    "%autoreload 2"
   ]
  },
  {
   "cell_type": "markdown",
   "metadata": {},
   "source": [
    "# Prepare data"
   ]
  },
  {
   "cell_type": "code",
   "execution_count": 8,
   "metadata": {},
   "outputs": [],
   "source": [
    "# Parameters\n",
    "exp = 'test'\n",
    "out_dir = f'../output/{exp}'\n",
    "data_dir = '../data/cesm2'\n",
    "test_data = 'test'\n",
    "\n",
    "vname = 'sst'\n",
    "leads = np.arange(3, 15, 3)\n",
    "n_resamples = 10000           # Number of resampling\n",
    "batch = int(n_resamples/50)\n",
    "\n",
    "with open(f'{out_dir}/hyperparameters.json', 'r') as f:\n",
    "    hp = json.load(f)\n",
    "    hp = DotDict(hp)\n",
    "\n",
    "periods = {\n",
    "    'library': hp.periods['train'],\n",
    "    'target': hp.periods[test_data],\n",
    "}\n",
    "\n",
    "history = pd.read_csv(f'{out_dir}/history.csv', index_col=0)\n",
    "epoch = history['val_mse'].argmin()"
   ]
  },
  {
   "cell_type": "code",
   "execution_count": 9,
   "metadata": {},
   "outputs": [],
   "source": [
    "# Load data for analog forecasting\n",
    "if vname == 'pr':\n",
    "    grid = '2.5x2.5'\n",
    "else:\n",
    "    grid = '2x2'\n",
    "    \n",
    "f = f'{data_dir}/{vname}_anomaly_{grid}.nc'\n",
    "da = xr.open_dataarray(f)\n",
    "\n",
    "# da = da.sel(lat=slice(-10, 10), lon=slice(120, 290))"
   ]
  },
  {
   "cell_type": "code",
   "execution_count": 10,
   "metadata": {},
   "outputs": [
    {
     "name": "stdout",
     "output_type": "stream",
     "text": [
      "Base MA\n"
     ]
    }
   ],
   "source": [
    "# Base MA\n",
    "print('Base MA')\n",
    "f = f'../output/MA/ma_index_{test_data}.nc'\n",
    "ma_idx = xr.open_dataarray(f)\n",
    "ma_idx = ma_idx.sel(month=hp.month)\n",
    "\n",
    "af_base = get_af_month(\n",
    "    da, hp.month, periods['library'], \n",
    "    ma_idx, hp.n_analog, leads)\n",
    "afm_base = af_base.mean(dim='analog')"
   ]
  },
  {
   "cell_type": "code",
   "execution_count": 11,
   "metadata": {},
   "outputs": [
    {
     "name": "stdout",
     "output_type": "stream",
     "text": [
      "ch256_sst_ssh_taux_scaled_month01_lr1.5e-05-0 at epoch 45\n"
     ]
    }
   ],
   "source": [
    "# MA-ML exp\n",
    "print(f'{exp} at epoch {epoch}')\n",
    "f = f'{out_dir}/ma_index_{test_data}_epoch{epoch}.nc'\n",
    "ma_idx = xr.open_dataarray(f)\n",
    "af = get_af_month(\n",
    "    da, hp.month, periods['library'], \n",
    "    ma_idx, hp.n_analog, leads)\n",
    "afm = af.mean(dim='analog')"
   ]
  },
  {
   "cell_type": "markdown",
   "metadata": {},
   "source": [
    "# Permutation of ACU difference"
   ]
  },
  {
   "cell_type": "code",
   "execution_count": 12,
   "metadata": {},
   "outputs": [
    {
     "name": "stdout",
     "output_type": "stream",
     "text": [
      "ACU diff: 3-month lead\n"
     ]
    }
   ],
   "source": [
    "%%time\n",
    "t_acu_diff = permute_acu_diff(\n",
    "    da, afm, afm_base, ['ens', 'year'], \n",
    "    month=hp.month, \n",
    "    n_resamples=n_resamples, batch=batch,\n",
    ")"
   ]
  },
  {
   "cell_type": "code",
   "execution_count": 20,
   "metadata": {},
   "outputs": [
    {
     "name": "stdout",
     "output_type": "stream",
     "text": [
      "../output/ch256_sst_ssh_taux_scaled_month01_lr1.5e-05-0/pr_t_acu_diff_test_epoch45.nc\n"
     ]
    }
   ],
   "source": [
    "# Save\n",
    "encoding = {key: {'dtype': 'float32'} for key in list(t_acu_diff.keys())}\n",
    "outf = f'{out_dir}/{vname}_t_acu_diff_{test_data}_epoch{epoch}.nc'\n",
    "t_acu_diff.to_netcdf(outf, encoding=encoding)\n",
    "print(outf)"
   ]
  },
  {
   "cell_type": "markdown",
   "metadata": {},
   "source": [
    "# Permutation of RMSE skill"
   ]
  },
  {
   "cell_type": "code",
   "execution_count": 6,
   "metadata": {},
   "outputs": [
    {
     "name": "stdout",
     "output_type": "stream",
     "text": [
      "NRMSE: 3-month lead\n",
      "NRMSE: 6-month lead\n",
      "NRMSE: 9-month lead\n",
      "NRMSE: 12-month lead\n",
      "CPU times: user 19.5 s, sys: 3.6 s, total: 23.1 s\n",
      "Wall time: 23.2 s\n"
     ]
    }
   ],
   "source": [
    "%%time\n",
    "t_nrmse = permute_nrmse(\n",
    "    da, afm, afm_base, ['ens', 'year'], \n",
    "    month=hp.month, \n",
    "    n_resamples=n_resamples, batch=batch,\n",
    ")"
   ]
  },
  {
   "cell_type": "code",
   "execution_count": 22,
   "metadata": {},
   "outputs": [
    {
     "name": "stdout",
     "output_type": "stream",
     "text": [
      "../output/ch256_sst_ssh_taux_scaled_month01_lr1.5e-05-0/pr_t_nrmse_test_epoch45.nc\n"
     ]
    }
   ],
   "source": [
    "# Save\n",
    "encoding = {key: {'dtype': 'float32'} for key in list(t_nrmse.keys())}\n",
    "outf = f'{out_dir}/{vname}_t_nrmse_{test_data}_epoch{epoch}.nc'\n",
    "t_nrmse.to_netcdf(outf, encoding=encoding)\n",
    "print(outf)"
   ]
  },
  {
   "cell_type": "code",
   "execution_count": null,
   "metadata": {},
   "outputs": [],
   "source": []
  }
 ],
 "metadata": {
  "kernelspec": {
   "display_name": "torch",
   "language": "python",
   "name": "python3"
  },
  "language_info": {
   "codemirror_mode": {
    "name": "ipython",
    "version": 3
   },
   "file_extension": ".py",
   "mimetype": "text/x-python",
   "name": "python",
   "nbconvert_exporter": "python",
   "pygments_lexer": "ipython3",
   "version": "3.10.11"
  },
  "orig_nbformat": 4
 },
 "nbformat": 4,
 "nbformat_minor": 2
}
