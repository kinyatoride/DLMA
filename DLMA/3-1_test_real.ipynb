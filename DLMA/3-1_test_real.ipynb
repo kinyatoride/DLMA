{
 "cells": [
  {
   "cell_type": "code",
   "execution_count": 1,
   "metadata": {},
   "outputs": [],
   "source": [
    "import os\n",
    "import sys\n",
    "import json\n",
    "import torch\n",
    "import xarray as xr\n",
    "\n",
    "module_path = os.path.abspath(os.path.join('../src'))\n",
    "if module_path not in sys.path:\n",
    "    sys.path.append(module_path)\n",
    "\n",
    "from loaddata import load_cesm2_by_period, load_real\n",
    "from UNet import UNet\n",
    "from testing import test\n",
    "from utils import DotDict\n",
    "from analog import *\n",
    "\n",
    "%load_ext autoreload\n",
    "%autoreload 2"
   ]
  },
  {
   "cell_type": "code",
   "execution_count": 2,
   "metadata": {},
   "outputs": [],
   "source": [
    "# Parameters\n",
    "exp = 'test'\n",
    "out_dir = f'../output/{exp}'\n",
    "library_dir = '../data/cesm2'\n",
    "\n",
    "data_dir = '../data/real'\n",
    "test_data = 'real'\n",
    "t1_dist_f = 'target_distance.nc'\n",
    "test_period = (1987, 2020)\n",
    "\n",
    "with open(f'{out_dir}/hyperparameters.json', 'r') as f:\n",
    "    hp = json.load(f)\n",
    "    hp = DotDict(hp)"
   ]
  },
  {
   "cell_type": "markdown",
   "metadata": {},
   "source": [
    "# Data for UNet"
   ]
  },
  {
   "cell_type": "code",
   "execution_count": 3,
   "metadata": {},
   "outputs": [
    {
     "name": "stdout",
     "output_type": "stream",
     "text": [
      "Using cuda device\n"
     ]
    }
   ],
   "source": [
    "# load library\n",
    "periods = {'train': hp.periods['train']}\n",
    "_, _, t0_library, t0_mask_library, t1_library = load_cesm2_by_period(\n",
    "    library_dir, hp.vnames, hp.lat_slice, \n",
    "    hp.target_vname, hp.target_grid, hp.target_lat_slice, hp.target_lon_slice,\n",
    "    hp.t1_dist_f, hp.lead, hp.month, periods, hp.batch_size, \n",
    "    shuffle=False)\n",
    "\n",
    "# Load real data\n",
    "periods['test'] = test_period\n",
    "dataset, dataloader, t0_mask_data = load_real(\n",
    "    data_dir, hp.vnames, hp.lat_slice, \n",
    "    hp.target_vname, hp.target_grid, hp.target_lat_slice, hp.target_lon_slice,\n",
    "    t1_dist_f, hp.lead, hp.month, periods, hp.batch_size)\n",
    "\n",
    "# Combine masks (only use grids where both data exist)\n",
    "t0_mask = t0_mask_library | t0_mask_data\n",
    "\n",
    "# dimension\n",
    "x, _, _ = dataset[0]\n",
    "n_channels = x.shape[0]\n",
    "\n",
    "# Device\n",
    "device = 'cuda' if torch.cuda.is_available() else 'cpu'\n",
    "print(f'Using {device} device')\n",
    "t0_library = t0_library.to(device)\n",
    "t0_mask = t0_mask.to(device)\n",
    "t1_library = t1_library.to(device)"
   ]
  },
  {
   "cell_type": "markdown",
   "metadata": {},
   "source": [
    "# Evaluate"
   ]
  },
  {
   "cell_type": "code",
   "execution_count": 4,
   "metadata": {},
   "outputs": [
    {
     "name": "stdout",
     "output_type": "stream",
     "text": [
      "test epoch   9: M_MSE = 0.892, MSE = 0.374\n",
      "test epoch  19: M_MSE = 0.861, MSE = 0.411\n",
      "test epoch  29: M_MSE = 0.845, MSE = 0.421\n",
      "test epoch  39: M_MSE = 0.819, MSE = 0.418\n",
      "test epoch  49: M_MSE = 0.825, MSE = 0.417\n",
      "test epoch  51: M_MSE = 0.786, MSE = 0.392\n",
      "test epoch  59: M_MSE = 0.813, MSE = 0.414\n"
     ]
    }
   ],
   "source": [
    "for epoch in range(hp.n_epochs):\n",
    "    f = f'{out_dir}/model_epoch{epoch}.pt'\n",
    "    if not os.path.exists(f):\n",
    "        continue\n",
    "    \n",
    "    # Load model\n",
    "    model = UNet(\n",
    "        in_ch=n_channels, out_ch=n_channels, \n",
    "        init_ch=hp.init_ch, depth=hp.depth,\n",
    "        attention=hp.attention, is_res=hp.is_res,\n",
    "        ).to(device)\n",
    "    model.load_state_dict(torch.load(f))\n",
    "    model.eval()\n",
    "\n",
    "    # Test acc, get analog indices\n",
    "    loss, acc, mse, ma_idx, weights = test(\n",
    "        model, device, dataloader, \n",
    "        t0_library, t0_mask, hp.n_sub, t1_library,\n",
    "        n_analog=hp.n_analog, insample=False,\n",
    "    )\n",
    "    print(f'{exp} epoch {epoch:3d}: M_MSE = {acc:.3f}, MSE = {mse:.3f}')\n",
    "\n",
    "    # mask land\n",
    "    weights[:, t0_mask.cpu().detach().numpy()] = np.nan\n",
    "\n",
    "    # to xarray\n",
    "    ma_idx = xr.DataArray(\n",
    "        ma_idx[:, :100], dims=['sample', 'analog'],\n",
    "        coords={'sample': dataset.t0_ds.sample}\n",
    "    ).rename({'sample': 'year'})\n",
    "    weights = xr.Dataset(\n",
    "        {dataset.vnames[i]: \n",
    "            (('year', 'lat', 'lon'), weights[:, i])for i in range(len(hp.vnames))},\n",
    "        coords=dataset.t0_ds.coords\n",
    "    ).rename({'sample': 'year'})\n",
    "    \n",
    "    # save\n",
    "    ma_idx.to_netcdf(f'{out_dir}/ma_index_{test_data}_epoch{epoch}.nc')\n",
    "    weights.to_netcdf(f'{out_dir}/weight_{test_data}_epoch{epoch}.nc')"
   ]
  },
  {
   "cell_type": "code",
   "execution_count": null,
   "metadata": {},
   "outputs": [],
   "source": []
  }
 ],
 "metadata": {
  "kernelspec": {
   "display_name": "torch",
   "language": "python",
   "name": "python3"
  },
  "language_info": {
   "codemirror_mode": {
    "name": "ipython",
    "version": 3
   },
   "file_extension": ".py",
   "mimetype": "text/x-python",
   "name": "python",
   "nbconvert_exporter": "python",
   "pygments_lexer": "ipython3",
   "version": "3.11.4"
  },
  "orig_nbformat": 4
 },
 "nbformat": 4,
 "nbformat_minor": 2
}
