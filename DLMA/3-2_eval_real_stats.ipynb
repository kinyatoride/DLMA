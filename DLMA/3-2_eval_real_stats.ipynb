{
 "cells": [
  {
   "cell_type": "code",
   "execution_count": 1,
   "metadata": {},
   "outputs": [],
   "source": [
    "import os\n",
    "import sys\n",
    "import json\n",
    "import numpy as np\n",
    "import xarray as xr\n",
    "import warnings\n",
    "\n",
    "module_path = os.path.abspath(os.path.join('../src'))\n",
    "if module_path not in sys.path:\n",
    "    sys.path.append(module_path)\n",
    "\n",
    "from utils import DotDict, nino_indices\n",
    "from analog import *\n",
    "from eval_pred import *\n",
    "\n",
    "%load_ext autoreload\n",
    "%autoreload 2"
   ]
  },
  {
   "cell_type": "code",
   "execution_count": 2,
   "metadata": {},
   "outputs": [],
   "source": [
    "# Parameters\n",
    "exp = 'test'\n",
    "out_dir = f'../output/{exp}'\n",
    "library_dir = '../data/cesm2'\n",
    "vname = 'sst'\n",
    "\n",
    "with open(f'{out_dir}/hyperparameters.json', 'r') as f:\n",
    "    hp = json.load(f)\n",
    "    hp = DotDict(hp)\n",
    "\n",
    "data_dir = '../data/real'\n",
    "test_data = 'real'\n",
    "\n",
    "if vname == 'pr':\n",
    "    grid = '2.5x2.5'\n",
    "    leads = np.arange(13)\n",
    "else:\n",
    "    grid = '2x2'\n",
    "    leads = np.arange(19)"
   ]
  },
  {
   "cell_type": "markdown",
   "metadata": {},
   "source": [
    "# Data for analog forecasting"
   ]
  },
  {
   "cell_type": "code",
   "execution_count": 3,
   "metadata": {},
   "outputs": [],
   "source": [
    "# load target data\n",
    "if vname == 'pr':\n",
    "    f = f'{data_dir}/{vname}_anomaly_{grid}_1987-2016.nc'\n",
    "else:\n",
    "    f = f'{data_dir}/{vname}_anomaly_{grid}.nc'\n",
    "ref = xr.open_dataarray(f)\n",
    "\n",
    "# load library\n",
    "f = f'{library_dir}/{vname}_anomaly_{grid}.nc'\n",
    "library = xr.open_dataarray(f)"
   ]
  },
  {
   "cell_type": "markdown",
   "metadata": {},
   "source": [
    "# Variable skill"
   ]
  },
  {
   "cell_type": "code",
   "execution_count": 4,
   "metadata": {},
   "outputs": [
    {
     "name": "stdout",
     "output_type": "stream",
     "text": [
      "Epoch 9 saved\n",
      "Epoch 19 saved\n",
      "Epoch 29 saved\n",
      "Epoch 39 saved\n",
      "Epoch 49 saved\n",
      "Epoch 51 saved\n",
      "Epoch 59 saved\n",
      "CPU times: user 59.3 s, sys: 46.3 s, total: 1min 45s\n",
      "Wall time: 1min 50s\n"
     ]
    }
   ],
   "source": [
    "%%time\n",
    "for epoch in range(hp.n_epochs):\n",
    "    f = f'{out_dir}/ma_index_{test_data}_epoch{epoch}.nc'\n",
    "    if not os.path.exists(f):\n",
    "        continue\n",
    "\n",
    "    ma_idx = xr.open_dataarray(f)\n",
    "\n",
    "    if vname == 'pr':\n",
    "        ma_idx = ma_idx.sel(year=slice(1987, 2015))\n",
    "\n",
    "    # Get analog forecasts\n",
    "    af = get_af_month(library, hp.month, hp.periods['train'], \n",
    "                      ma_idx, hp.n_analog, leads)\n",
    "    afm = af.mean(dim='analog')        \n",
    "\n",
    "    # Time stats\n",
    "    t_mse = eval_stats_lead(eval_mse, ref, afm, month=hp.month, dim='year')\n",
    "    t_uac = eval_stats_lead(eval_uac, ref, afm, month=hp.month, dim='year')\n",
    "    t_cac = eval_stats_lead(eval_r, ref, afm, month=hp.month, dim='year')\n",
    "    t_rmsss = eval_stats_lead(eval_rmsss, ref, afm, month=hp.month, dim='year')\n",
    "    t_msss = eval_stats_lead(eval_msss, ref, afm, month=hp.month, dim='year')\n",
    "\n",
    "    # Over the target region\n",
    "    xy_mse = eval_stats_lead(\n",
    "        eval_mse, ref.sel(lat=slice(*hp.target_lat_slice), lon=slice(*hp.target_lon_slice)), \n",
    "        afm, month=hp.month, dim=['lat', 'lon'])\n",
    "    xy_uac = eval_stats_lead(\n",
    "        eval_uac, ref.sel(lat=slice(*hp.target_lat_slice), lon=slice(*hp.target_lon_slice)), \n",
    "        afm, month=hp.month, dim=['lat', 'lon'])\n",
    "\n",
    "    # Ensemble spread (time-mean)\n",
    "    # Suppress runtime warning for empty array\n",
    "    with warnings.catch_warnings():\n",
    "        warnings.simplefilter('ignore', category=RuntimeWarning)\n",
    "        t_std = af.var(dim='analog').mean(dim='year') ** 0.5\n",
    "    t_std = t_std.rename('std').assign_attrs(long_name='Ensemble spread') \n",
    "\n",
    "    # Probablistic stats\n",
    "    t_crps = eval_stats_lead(\n",
    "        eval_crps_decomp, \n",
    "        ref.sel(lat=slice(*hp.target_lat_slice), lon=slice(*hp.target_lon_slice)), \n",
    "        af.sel(lat=slice(*hp.target_lat_slice), lon=slice(*hp.target_lon_slice)), \n",
    "        month=hp.month, dim='year')\n",
    "\n",
    "    # Combine\n",
    "    t_stats = xr.merge([\n",
    "        t_mse.rename('mse').assign_attrs(long_name='Mean square error'), \n",
    "        t_uac.rename('uac').assign_attrs(long_name='Uncentered anomaly correlation'),\n",
    "        t_cac.rename('cac').assign_attrs(long_name='Centered anomaly correlation'),\n",
    "        t_rmsss.rename('rmsss').assign_attrs(long_name='Root mean square skill score'),\n",
    "        t_msss.rename('msss').assign_attrs(long_name='Mean square skill score'),\n",
    "        ])\n",
    "\n",
    "    xy_stats = xr.merge([\n",
    "        xy_mse.rename('mse').assign_attrs(long_name='Mean square error'), \n",
    "        xy_uac.rename('uac').assign_attrs(long_name='Uncentered anomaly correlation')\n",
    "        ])\n",
    "\n",
    "    # Save\n",
    "    encoding = {key: {'dtype': 'float32'} for key in list(t_stats.keys())}\n",
    "    t_stats.to_netcdf(f'{out_dir}/{vname}_t_stats_{test_data}_epoch{epoch}.nc', encoding=encoding)\n",
    "\n",
    "    encoding = {key: {'dtype': 'float32'} for key in list(xy_stats.keys())}\n",
    "    xy_stats.to_netcdf(f'{out_dir}/{vname}_xy_stats_{test_data}_epoch{epoch}.nc', encoding=encoding)\n",
    "\n",
    "    encoding = {'std': {'dtype': 'float32'}}\n",
    "    t_std.to_netcdf(f'{out_dir}/{vname}_t_std_{test_data}_epoch{epoch}.nc', encoding=encoding) \n",
    "\n",
    "    encoding = {key: {'dtype': 'float32'} for key in list(t_crps.keys())}\n",
    "    t_crps.to_netcdf(f'{out_dir}/{vname}_t_crps_{test_data}_epoch{epoch}.nc', encoding=encoding)\n",
    "    print(f'Epoch {epoch} saved')"
   ]
  },
  {
   "cell_type": "markdown",
   "metadata": {},
   "source": [
    "# Nino"
   ]
  },
  {
   "cell_type": "code",
   "execution_count": 5,
   "metadata": {},
   "outputs": [
    {
     "name": "stdout",
     "output_type": "stream",
     "text": [
      "Epoch 9 saved\n",
      "Epoch 19 saved\n",
      "Epoch 29 saved\n",
      "Epoch 39 saved\n",
      "Epoch 49 saved\n",
      "Epoch 51 saved\n",
      "Epoch 59 saved\n"
     ]
    }
   ],
   "source": [
    "if vname == 'sst':\n",
    "    nino_ref = nino_indices(ref)\n",
    "    nino_library = nino_indices(library)\n",
    "\n",
    "    encoding = {key: {'dtype': 'float32'} for key in list(nino_ref.keys())}\n",
    "\n",
    "    for epoch in range(hp.n_epochs):\n",
    "        f = f'{out_dir}/ma_index_{test_data}_epoch{epoch}.nc'\n",
    "        if not os.path.exists(f):\n",
    "            continue\n",
    "\n",
    "        ma_idx = xr.open_dataarray(f)\n",
    "\n",
    "        nino_af = get_af_month(nino_library, hp.month, hp.periods['train'], ma_idx, hp.n_analog, leads)\n",
    "        nino_afm = nino_af.mean(dim='analog')\n",
    "\n",
    "        nino_t_uac = eval_stats_lead(eval_uac, nino_ref, nino_afm, month=hp.month, dim='year')\n",
    "        nino_t_mse = eval_stats_lead(eval_mse, nino_ref, nino_afm, month=hp.month, dim='year')\n",
    "        nino_t_rmsss = eval_stats_lead(eval_rmsss, nino_ref, nino_afm, month=hp.month, dim='year')\n",
    "        nino_t_std = nino_af.var(dim='analog').mean(dim='year') ** 0.5\n",
    "        nino_t_crps = eval_stats_lead(eval_crps_decomp, nino_ref['nino34'], nino_af['nino34'], \n",
    "                                      month=hp.month, dim='year')\n",
    "        \n",
    "        # Save\n",
    "        encoding = {key: {'dtype': 'float32'} for key in list(nino_ref.keys())}\n",
    "        nino_t_uac.to_netcdf(f'{out_dir}/nino_t_uac_{test_data}_epoch{epoch}.nc', encoding=encoding)\n",
    "        nino_t_mse.to_netcdf(f'{out_dir}/nino_t_mse_{test_data}_epoch{epoch}.nc', encoding=encoding)\n",
    "        nino_t_rmsss.to_netcdf(f'{out_dir}/nino_t_rmsss_{test_data}_epoch{epoch}.nc', encoding=encoding)\n",
    "        nino_t_std.to_netcdf(f'{out_dir}/nino_t_std_{test_data}_epoch{epoch}.nc', encoding=encoding)\n",
    "\n",
    "        encoding = {key: {'dtype': 'float32'} for key in list(nino_t_crps.keys())}\n",
    "        nino_t_crps.to_netcdf(f'{out_dir}/nino34_t_crps_{test_data}_epoch{epoch}.nc', encoding=encoding)\n",
    "\n",
    "        print(f'Epoch {epoch} saved')\n"
   ]
  },
  {
   "cell_type": "code",
   "execution_count": null,
   "metadata": {},
   "outputs": [],
   "source": []
  }
 ],
 "metadata": {
  "kernelspec": {
   "display_name": "torch",
   "language": "python",
   "name": "python3"
  },
  "language_info": {
   "codemirror_mode": {
    "name": "ipython",
    "version": 3
   },
   "file_extension": ".py",
   "mimetype": "text/x-python",
   "name": "python",
   "nbconvert_exporter": "python",
   "pygments_lexer": "ipython3",
   "version": "3.11.4"
  },
  "orig_nbformat": 4
 },
 "nbformat": 4,
 "nbformat_minor": 2
}
