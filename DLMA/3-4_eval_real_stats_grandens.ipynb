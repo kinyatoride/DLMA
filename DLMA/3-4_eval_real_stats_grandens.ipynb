{
 "cells": [
  {
   "cell_type": "code",
   "execution_count": 49,
   "metadata": {},
   "outputs": [
    {
     "name": "stdout",
     "output_type": "stream",
     "text": [
      "The autoreload extension is already loaded. To reload it, use:\n",
      "  %reload_ext autoreload\n"
     ]
    }
   ],
   "source": [
    "import os\n",
    "import sys\n",
    "import json\n",
    "import numpy as np\n",
    "import pandas as pd\n",
    "import xarray as xr\n",
    "import warnings\n",
    "\n",
    "module_path = os.path.abspath(os.path.join('../src'))\n",
    "if module_path not in sys.path:\n",
    "    sys.path.append(module_path)\n",
    "\n",
    "from utils import DotDict, nino_indices\n",
    "from analog import *\n",
    "from eval_pred import *\n",
    "\n",
    "%load_ext autoreload\n",
    "%autoreload 2"
   ]
  },
  {
   "cell_type": "code",
   "execution_count": 50,
   "metadata": {},
   "outputs": [
    {
     "name": "stdout",
     "output_type": "stream",
     "text": [
      "../output/unet4-256_scaled_month09_lr2.0e-05_gens0-9\n"
     ]
    }
   ],
   "source": [
    "# Parameters\n",
    "# exp_base = 'unet4-256_scaled_month01_lr1.5e-05'\n",
    "exp_base = 'unet4-256_scaled_month09_lr2.0e-05'\n",
    "common_epoch = 9\n",
    "i_ens = 0\n",
    "n_ens = 10\n",
    "\n",
    "library_dir = '../data/cesm2'\n",
    "vname = 'sst'\n",
    "\n",
    "with open(f'../output/{exp_base}_{i_ens}/hyperparameters.json', 'r') as f:\n",
    "    hp = json.load(f)\n",
    "    hp = DotDict(hp)\n",
    "\n",
    "data_dir = '../data/real'\n",
    "test_data = 'real'\n",
    "\n",
    "if vname == 'pr':\n",
    "    grid = '2.5x2.5'\n",
    "    leads = np.arange(13)\n",
    "else:\n",
    "    grid = '2x2'\n",
    "    leads = np.arange(19)\n",
    "\n",
    "# Out dir\n",
    "out_dir = f'../output/{exp_base}_gens{i_ens}-{i_ens+n_ens-1}'\n",
    "print(out_dir)\n",
    "os.makedirs(out_dir, exist_ok=True)"
   ]
  },
  {
   "cell_type": "markdown",
   "metadata": {},
   "source": [
    "# Data for analog forecasting"
   ]
  },
  {
   "cell_type": "code",
   "execution_count": 51,
   "metadata": {},
   "outputs": [],
   "source": [
    "# load target data\n",
    "if vname == 'pr':\n",
    "    f = f'{data_dir}/{vname}_anomaly_{grid}_1987-2016.nc'\n",
    "else:\n",
    "    f = f'{data_dir}/{vname}_anomaly_{grid}.nc'\n",
    "ref = xr.open_dataarray(f)\n",
    "\n",
    "# load library\n",
    "f = f'{library_dir}/{vname}_anomaly_{grid}.nc'\n",
    "library = xr.open_dataarray(f)"
   ]
  },
  {
   "cell_type": "markdown",
   "metadata": {},
   "source": [
    "# MA indices"
   ]
  },
  {
   "cell_type": "code",
   "execution_count": 52,
   "metadata": {},
   "outputs": [],
   "source": [
    "# MA indices\n",
    "lst = []\n",
    "for i in range(i_ens, i_ens + n_ens):\n",
    "    exp = f'{exp_base}_{i}'\n",
    "    in_dir = f'../output/{exp}'\n",
    "\n",
    "    if common_epoch is None:\n",
    "        history = pd.read_csv(f'{in_dir}/history.csv', index_col=0)\n",
    "        epoch = history['val_mse'].argmin()\n",
    "    else:\n",
    "        epoch = common_epoch\n",
    "\n",
    "    f = f'{in_dir}/ma_index_{test_data}_epoch{epoch}.nc'\n",
    "    ma_idx = xr.open_dataarray(f)\n",
    "\n",
    "    lst.append(ma_idx.sel(analog=slice(0, hp.n_analog)))\n",
    "    \n",
    "ma_idx = xr.concat(lst, dim='analog')"
   ]
  },
  {
   "cell_type": "code",
   "execution_count": 53,
   "metadata": {},
   "outputs": [],
   "source": [
    "# Save\n",
    "hp.n_analog = n_ens * hp.n_analog\n",
    "if not os.path.exists(f'{out_dir}/hyperparameters.json'):\n",
    "    with open(f'{out_dir}/hyperparameters.json', 'w') as f:\n",
    "        json.dump(hp, f)\n",
    "\n",
    "if common_epoch is None:\n",
    "    ma_idx.to_netcdf(f'{out_dir}/ma_index_{test_data}.nc')\n",
    "else:\n",
    "    ma_idx.to_netcdf(f'{out_dir}/ma_index_{test_data}_epoch{common_epoch}.nc')"
   ]
  },
  {
   "cell_type": "markdown",
   "metadata": {},
   "source": [
    "# Variable skill"
   ]
  },
  {
   "cell_type": "code",
   "execution_count": 54,
   "metadata": {},
   "outputs": [
    {
     "name": "stdout",
     "output_type": "stream",
     "text": [
      "CPU times: user 27.8 s, sys: 8.42 s, total: 36.2 s\n",
      "Wall time: 36.9 s\n"
     ]
    }
   ],
   "source": [
    "%%time\n",
    "if vname == 'pr':\n",
    "    ma_idx = ma_idx.sel(year=slice(1987, 2015))\n",
    "\n",
    "# Get analog forecasts\n",
    "af = get_af_month(library, hp.month, hp.periods['train'], \n",
    "                    ma_idx, hp.n_analog, leads)\n",
    "afm = af.mean(dim='analog')        \n",
    "\n",
    "# Time stats\n",
    "t_mse = eval_stats_lead(eval_mse, ref, afm, month=hp.month, dim='year')\n",
    "t_uac = eval_stats_lead(eval_uac, ref, afm, month=hp.month, dim='year')\n",
    "t_cac = eval_stats_lead(eval_r, ref, afm, month=hp.month, dim='year')\n",
    "t_rmsss = eval_stats_lead(eval_rmsss, ref, afm, month=hp.month, dim='year')\n",
    "t_msss = eval_stats_lead(eval_msss, ref, afm, month=hp.month, dim='year')\n",
    "\n",
    "# Over the target region\n",
    "xy_mse = eval_stats_lead(\n",
    "    eval_mse, ref.sel(lat=slice(*hp.target_lat_slice), lon=slice(*hp.target_lon_slice)), \n",
    "    afm, month=hp.month, dim=['lat', 'lon'])\n",
    "xy_uac = eval_stats_lead(\n",
    "    eval_uac, ref.sel(lat=slice(*hp.target_lat_slice), lon=slice(*hp.target_lon_slice)), \n",
    "    afm, month=hp.month, dim=['lat', 'lon'])\n",
    "\n",
    "# Ensemble spread (time-mean)\n",
    "# Suppress runtime warning for empty array\n",
    "with warnings.catch_warnings():\n",
    "    warnings.simplefilter('ignore', category=RuntimeWarning)\n",
    "    t_std = af.var(dim='analog').mean(dim='year') ** 0.5\n",
    "t_std = t_std.rename('std').assign_attrs(long_name='Ensemble spread') \n",
    "\n",
    "# Probablistic stats\n",
    "t_crps = eval_stats_lead(\n",
    "    eval_crps_decomp, \n",
    "    ref.sel(lat=slice(*hp.target_lat_slice), lon=slice(*hp.target_lon_slice)), \n",
    "    af.sel(lat=slice(*hp.target_lat_slice), lon=slice(*hp.target_lon_slice)), \n",
    "    month=hp.month, dim='year')\n",
    "\n",
    "# Combine\n",
    "t_stats = xr.merge([\n",
    "    t_mse.rename('mse').assign_attrs(long_name='Mean square error'), \n",
    "    t_uac.rename('uac').assign_attrs(long_name='Uncentered anomaly correlation'),\n",
    "    t_cac.rename('cac').assign_attrs(long_name='Centered anomaly correlation'),\n",
    "    t_rmsss.rename('rmsss').assign_attrs(long_name='Root mean square skill score'),\n",
    "    t_msss.rename('msss').assign_attrs(long_name='Mean square skill score'),\n",
    "    ])\n",
    "\n",
    "xy_stats = xr.merge([\n",
    "    xy_mse.rename('mse').assign_attrs(long_name='Mean square error'), \n",
    "    xy_uac.rename('uac').assign_attrs(long_name='Uncentered anomaly correlation')\n",
    "    ])\n",
    "\n",
    "# Save\n",
    "if common_epoch is None:\n",
    "    t_stats_f = f'{out_dir}/{vname}_t_stats_{test_data}.nc'\n",
    "    xy_stats_f = f'{out_dir}/{vname}_xy_stats_{test_data}.nc'\n",
    "    t_std_f = f'{out_dir}/{vname}_t_std_{test_data}.nc'\n",
    "    t_crps_f = f'{out_dir}/{vname}_t_crps_{test_data}.nc'\n",
    "else:\n",
    "    t_stats_f = f'{out_dir}/{vname}_t_stats_{test_data}_epoch{epoch}.nc'\n",
    "    xy_stats_f = f'{out_dir}/{vname}_xy_stats_{test_data}_epoch{epoch}.nc'\n",
    "    t_std_f = f'{out_dir}/{vname}_t_std_{test_data}_epoch{epoch}.nc'\n",
    "    t_crps_f = f'{out_dir}/{vname}_t_crps_{test_data}_epoch{epoch}.nc'\n",
    "\n",
    "encoding = {key: {'dtype': 'float32'} for key in list(t_stats.keys())}\n",
    "t_stats.to_netcdf(t_stats_f, encoding=encoding)\n",
    "\n",
    "encoding = {key: {'dtype': 'float32'} for key in list(xy_stats.keys())}\n",
    "xy_stats.to_netcdf(xy_stats_f, encoding=encoding)\n",
    "\n",
    "encoding = {'std': {'dtype': 'float32'}}\n",
    "t_std.to_netcdf(t_std_f, encoding=encoding) \n",
    "\n",
    "encoding = {key: {'dtype': 'float32'} for key in list(t_crps.keys())}\n",
    "t_crps.to_netcdf(t_crps_f, encoding=encoding)"
   ]
  },
  {
   "cell_type": "markdown",
   "metadata": {},
   "source": [
    "# Nino"
   ]
  },
  {
   "cell_type": "code",
   "execution_count": 55,
   "metadata": {},
   "outputs": [],
   "source": [
    "if vname == 'sst':\n",
    "    nino_ref = nino_indices(ref)\n",
    "    nino_library = nino_indices(library)\n",
    "\n",
    "    encoding = {key: {'dtype': 'float32'} for key in list(nino_ref.keys())}\n",
    "\n",
    "    nino_af = get_af_month(nino_library, hp.month, hp.periods['train'], ma_idx, hp.n_analog, leads)\n",
    "    nino_afm = nino_af.mean(dim='analog')\n",
    "\n",
    "    nino_t_uac = eval_stats_lead(eval_uac, nino_ref, nino_afm, month=hp.month, dim='year')\n",
    "    nino_t_mse = eval_stats_lead(eval_mse, nino_ref, nino_afm, month=hp.month, dim='year')\n",
    "    nino_t_rmsss = eval_stats_lead(eval_rmsss, nino_ref, nino_afm, month=hp.month, dim='year')\n",
    "    nino_t_std = nino_af.var(dim='analog').mean(dim='year') ** 0.5\n",
    "    nino_t_crps = eval_stats_lead(eval_crps_decomp, nino_ref['nino34'], nino_af['nino34'], \n",
    "                                    month=hp.month, dim='year')\n",
    "    \n",
    "    # Save\n",
    "    if common_epoch is None:\n",
    "        encoding = {key: {'dtype': 'float32'} for key in list(nino_ref.keys())}\n",
    "        nino_t_uac.to_netcdf(f'{out_dir}/nino_t_uac_{test_data}.nc', encoding=encoding)\n",
    "        nino_t_mse.to_netcdf(f'{out_dir}/nino_t_mse_{test_data}.nc', encoding=encoding)\n",
    "        nino_t_rmsss.to_netcdf(f'{out_dir}/nino_t_rmsss_{test_data}.nc', encoding=encoding)\n",
    "        nino_t_std.to_netcdf(f'{out_dir}/nino_t_std_{test_data}.nc', encoding=encoding)\n",
    "\n",
    "        encoding = {key: {'dtype': 'float32'} for key in list(nino_t_crps.keys())}\n",
    "        nino_t_crps.to_netcdf(f'{out_dir}/nino34_t_crps_{test_data}.nc', encoding=encoding)\n",
    "    else:\n",
    "        encoding = {key: {'dtype': 'float32'} for key in list(nino_ref.keys())}\n",
    "        nino_t_uac.to_netcdf(f'{out_dir}/nino_t_uac_{test_data}_epoch{epoch}.nc', encoding=encoding)\n",
    "        nino_t_mse.to_netcdf(f'{out_dir}/nino_t_mse_{test_data}_epoch{epoch}.nc', encoding=encoding)\n",
    "        nino_t_rmsss.to_netcdf(f'{out_dir}/nino_t_rmsss_{test_data}_epoch{epoch}.nc', encoding=encoding)\n",
    "        nino_t_std.to_netcdf(f'{out_dir}/nino_t_std_{test_data}_epoch{epoch}.nc', encoding=encoding)\n",
    "\n",
    "        encoding = {key: {'dtype': 'float32'} for key in list(nino_t_crps.keys())}\n",
    "        nino_t_crps.to_netcdf(f'{out_dir}/nino34_t_crps_{test_data}_epoch{epoch}.nc', encoding=encoding)"
   ]
  }
 ],
 "metadata": {
  "kernelspec": {
   "display_name": "torch",
   "language": "python",
   "name": "python3"
  },
  "language_info": {
   "codemirror_mode": {
    "name": "ipython",
    "version": 3
   },
   "file_extension": ".py",
   "mimetype": "text/x-python",
   "name": "python",
   "nbconvert_exporter": "python",
   "pygments_lexer": "ipython3",
   "version": "3.10.11"
  },
  "orig_nbformat": 4
 },
 "nbformat": 4,
 "nbformat_minor": 2
}
