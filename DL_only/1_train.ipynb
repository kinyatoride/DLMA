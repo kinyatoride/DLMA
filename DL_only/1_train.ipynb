{
 "cells": [
  {
   "cell_type": "code",
   "execution_count": 9,
   "metadata": {},
   "outputs": [
    {
     "name": "stdout",
     "output_type": "stream",
     "text": [
      "The autoreload extension is already loaded. To reload it, use:\n",
      "  %reload_ext autoreload\n"
     ]
    }
   ],
   "source": [
    "import os\n",
    "import sys\n",
    "import json\n",
    "import torch\n",
    "import wandb \n",
    "from torchinfo import summary\n",
    "\n",
    "module_path = os.path.abspath(os.path.join('../src'))\n",
    "if module_path not in sys.path:\n",
    "    sys.path.append(module_path)\n",
    "\n",
    "from ml_only.loaddata import load_cesm2_by_period\n",
    "from ml_only.UNet_dynamic import UNet\n",
    "from ml_only.trainer import Trainer, EarlyStopper\n",
    "from utils import DotDict\n",
    "\n",
    "%load_ext autoreload\n",
    "%autoreload 2"
   ]
  },
  {
   "cell_type": "code",
   "execution_count": 10,
   "metadata": {},
   "outputs": [],
   "source": [
    "# Experiment name\n",
    "exp = 'ML_test'\n",
    "out_dir = f'../output/{exp}'\n",
    "data_dir = '../data/cesm2'\n",
    "\n",
    "# Hyperparameters\n",
    "hp = {\n",
    "    'vnames': ['sst', 'ssh', 'taux'],\n",
    "    'lat_slice': (-50, 50),\n",
    "    'target_vname': 'sst',\n",
    "    'target_grid': '2x2',\n",
    "    'target_lat_slice': (-10, 10),\n",
    "    'target_lon_slice': (120, 290),\n",
    "    'lead': 12,\n",
    "    'month': 1,\n",
    "    'periods': {\n",
    "        'train': (1865, 1958),\n",
    "        'val': (1959, 1985),\n",
    "        'test': (1986, 1998),\n",
    "    },\n",
    "    'batch_size': 16,\n",
    "    'learning_rate': 1e-5,\n",
    "    'model': 'UNet',\n",
    "    'attention': False,\n",
    "    'is_res': False,\n",
    "    'depth': 4,\n",
    "    'init_ch': 256,\n",
    "    'n_epochs': 10,\n",
    "}\n",
    "hp = DotDict(hp)"
   ]
  },
  {
   "cell_type": "code",
   "execution_count": 33,
   "metadata": {},
   "outputs": [
    {
     "name": "stdout",
     "output_type": "stream",
     "text": [
      "CPU times: user 255 ms, sys: 865 ms, total: 1.12 s\n",
      "Wall time: 1.1 s\n"
     ]
    }
   ],
   "source": [
    "%%time\n",
    "# load data\n",
    "datasets, dataloaders, t1_wgt = load_cesm2_by_period(data_dir, **hp)"
   ]
  },
  {
   "cell_type": "code",
   "execution_count": 34,
   "metadata": {},
   "outputs": [
    {
     "name": "stdout",
     "output_type": "stream",
     "text": [
      "Input shape = (3, 21, 72)\n",
      "Output shape = (11, 86)\n",
      "Using cuda device\n"
     ]
    }
   ],
   "source": [
    "# dimension\n",
    "x, y = datasets['train'][0]\n",
    "x_shape = tuple(x.shape)\n",
    "y_shape = tuple(y.shape)\n",
    "n_channels = x.shape[0]\n",
    "print(f'Input shape = {x_shape}')\n",
    "print(f'Output shape = {y_shape}')\n",
    "\n",
    "# Device\n",
    "device = 'cuda' if torch.cuda.is_available() else 'cpu'\n",
    "print(f'Using {device} device')\n",
    "t1_wgt = t1_wgt.to(device)"
   ]
  },
  {
   "cell_type": "markdown",
   "metadata": {},
   "source": [
    "# Define a neural network"
   ]
  },
  {
   "cell_type": "code",
   "execution_count": 35,
   "metadata": {},
   "outputs": [
    {
     "name": "stdout",
     "output_type": "stream",
     "text": [
      "====================================================================================================\n",
      "Layer (type:depth-idx)                             Output Shape              Param #\n",
      "====================================================================================================\n",
      "UNet                                               [16, 11, 86]              --\n",
      "├─Encoder: 1-1                                     [16, 256, 21, 86]         --\n",
      "│    └─ModuleList: 2-7                             --                        (recursive)\n",
      "│    │    └─Down: 3-1                              [16, 256, 21, 86]         598,272\n",
      "│    └─MaxPool2d: 2-2                              [16, 256, 10, 43]         --\n",
      "│    └─ModuleList: 2-7                             --                        (recursive)\n",
      "│    │    └─Down: 3-2                              [16, 512, 10, 43]         3,542,016\n",
      "│    └─MaxPool2d: 2-4                              [16, 512, 5, 21]          --\n",
      "│    └─ModuleList: 2-7                             --                        (recursive)\n",
      "│    │    └─Down: 3-3                              [16, 1024, 5, 21]         14,161,920\n",
      "│    └─MaxPool2d: 2-6                              [16, 1024, 2, 10]         --\n",
      "│    └─ModuleList: 2-7                             --                        (recursive)\n",
      "│    │    └─Down: 3-4                              [16, 2048, 2, 10]         56,635,392\n",
      "├─Decoder: 1-2                                     [16, 256, 21, 86]         --\n",
      "│    └─ModuleList: 2-8                             --                        --\n",
      "│    │    └─Up: 3-5                                [16, 1024, 5, 21]         36,707,328\n",
      "│    │    └─Up: 3-6                                [16, 512, 10, 43]         9,178,624\n",
      "│    │    └─Up: 3-7                                [16, 256, 21, 86]         2,295,552\n",
      "├─Conv2d: 1-3                                      [16, 1, 21, 86]           257\n",
      "====================================================================================================\n",
      "Total params: 123,119,361\n",
      "Trainable params: 123,119,361\n",
      "Non-trainable params: 0\n",
      "Total mult-adds (Units.GIGABYTES): 270.21\n",
      "====================================================================================================\n",
      "Input size (MB): 0.29\n",
      "Forward/backward pass size (MB): 924.55\n",
      "Params size (MB): 492.48\n",
      "Estimated Total Size (MB): 1417.32\n",
      "====================================================================================================\n",
      "Total params: 123,119,361\n"
     ]
    }
   ],
   "source": [
    "model = UNet(\n",
    "    in_ch=n_channels, \n",
    "    out_ch=1, \n",
    "    init_ch=hp.init_ch, \n",
    "    depth=hp.depth,\n",
    "    in_shape=x_shape,\n",
    "    out_shape=y_shape,\n",
    "    attention=hp.attention, \n",
    "    is_res=hp.is_res,\n",
    "    ).to(device)\n",
    "\n",
    "model_stats = summary(model, input_size=(hp.batch_size, *x_shape))\n",
    "total_params = sum(p.numel() for p in model.parameters() if p.requires_grad)\n",
    "print(model_stats)\n",
    "print(f'Total params: {total_params:,}')\n",
    "hp['total_params'] = total_params\n",
    "\n",
    "# Compile model (torch 2.x)\n",
    "# model = torch.compile(model)"
   ]
  },
  {
   "cell_type": "markdown",
   "metadata": {},
   "source": [
    "# Train the model"
   ]
  },
  {
   "cell_type": "code",
   "execution_count": 36,
   "metadata": {},
   "outputs": [
    {
     "data": {
      "text/html": [
       "Finishing last run (ID:lquphnsm) before initializing another..."
      ],
      "text/plain": [
       "<IPython.core.display.HTML object>"
      ]
     },
     "metadata": {},
     "output_type": "display_data"
    },
    {
     "data": {
      "text/html": [
       "Waiting for W&B process to finish... <strong style=\"color:green\">(success).</strong>"
      ],
      "text/plain": [
       "<IPython.core.display.HTML object>"
      ]
     },
     "metadata": {},
     "output_type": "display_data"
    },
    {
     "data": {
      "text/html": [
       "<style>\n",
       "    table.wandb td:nth-child(1) { padding: 0 10px; text-align: left ; width: auto;} td:nth-child(2) {text-align: left ; width: 100%}\n",
       "    .wandb-row { display: flex; flex-direction: row; flex-wrap: wrap; justify-content: flex-start; width: 100% }\n",
       "    .wandb-col { display: flex; flex-direction: column; flex-basis: 100%; flex: 1; padding: 10px; }\n",
       "    </style>\n",
       "<div class=\"wandb-row\"><div class=\"wandb-col\"><h3>Run summary:</h3><br/><table class=\"wandb\"><tr><td>train_loss</td><td>nan</td></tr><tr><td>val_loss</td><td>nan</td></tr></table><br/></div></div>"
      ],
      "text/plain": [
       "<IPython.core.display.HTML object>"
      ]
     },
     "metadata": {},
     "output_type": "display_data"
    },
    {
     "data": {
      "text/html": [
       " View run <strong style=\"color:#cdcd00\">ML_test</strong> at: <a href='https://wandb.ai/kinya/ML-ENSO/runs/lquphnsm' target=\"_blank\">https://wandb.ai/kinya/ML-ENSO/runs/lquphnsm</a><br/>Synced 6 W&B file(s), 0 media file(s), 0 artifact file(s) and 0 other file(s)"
      ],
      "text/plain": [
       "<IPython.core.display.HTML object>"
      ]
     },
     "metadata": {},
     "output_type": "display_data"
    },
    {
     "data": {
      "text/html": [
       "Find logs at: <code>./wandb/run-20231120_102425-lquphnsm/logs</code>"
      ],
      "text/plain": [
       "<IPython.core.display.HTML object>"
      ]
     },
     "metadata": {},
     "output_type": "display_data"
    },
    {
     "data": {
      "text/html": [
       "Successfully finished last run (ID:lquphnsm). Initializing new run:<br/>"
      ],
      "text/plain": [
       "<IPython.core.display.HTML object>"
      ]
     },
     "metadata": {},
     "output_type": "display_data"
    },
    {
     "data": {
      "application/vnd.jupyter.widget-view+json": {
       "model_id": "1f18cc14079a4023bd7d11d9ad1066e8",
       "version_major": 2,
       "version_minor": 0
      },
      "text/plain": [
       "VBox(children=(Label(value='Waiting for wandb.init()...\\r'), FloatProgress(value=0.01666834522038698, max=1.0)…"
      ]
     },
     "metadata": {},
     "output_type": "display_data"
    },
    {
     "data": {
      "text/html": [
       "wandb version 0.16.0 is available!  To upgrade, please run:\n",
       " $ pip install wandb --upgrade"
      ],
      "text/plain": [
       "<IPython.core.display.HTML object>"
      ]
     },
     "metadata": {},
     "output_type": "display_data"
    },
    {
     "data": {
      "text/html": [
       "Tracking run with wandb version 0.15.4"
      ],
      "text/plain": [
       "<IPython.core.display.HTML object>"
      ]
     },
     "metadata": {},
     "output_type": "display_data"
    },
    {
     "data": {
      "text/html": [
       "Run data is saved locally in <code>/Projects/mlma/model/MA-UNet/ML_only/wandb/run-20231120_102938-4h9ydou7</code>"
      ],
      "text/plain": [
       "<IPython.core.display.HTML object>"
      ]
     },
     "metadata": {},
     "output_type": "display_data"
    },
    {
     "data": {
      "text/html": [
       "Syncing run <strong><a href='https://wandb.ai/kinya/ML-ENSO/runs/4h9ydou7' target=\"_blank\">ML_test</a></strong> to <a href='https://wandb.ai/kinya/ML-ENSO' target=\"_blank\">Weights & Biases</a> (<a href='https://wandb.me/run' target=\"_blank\">docs</a>)<br/>"
      ],
      "text/plain": [
       "<IPython.core.display.HTML object>"
      ]
     },
     "metadata": {},
     "output_type": "display_data"
    },
    {
     "data": {
      "text/html": [
       " View project at <a href='https://wandb.ai/kinya/ML-ENSO' target=\"_blank\">https://wandb.ai/kinya/ML-ENSO</a>"
      ],
      "text/plain": [
       "<IPython.core.display.HTML object>"
      ]
     },
     "metadata": {},
     "output_type": "display_data"
    },
    {
     "data": {
      "text/html": [
       " View run at <a href='https://wandb.ai/kinya/ML-ENSO/runs/4h9ydou7' target=\"_blank\">https://wandb.ai/kinya/ML-ENSO/runs/4h9ydou7</a>"
      ],
      "text/plain": [
       "<IPython.core.display.HTML object>"
      ]
     },
     "metadata": {},
     "output_type": "display_data"
    },
    {
     "name": "stdout",
     "output_type": "stream",
     "text": [
      "Epoch   0, train:   0.654, val:   0.624\n",
      "Epoch   1, train:   0.507, val:   0.566\n",
      "Epoch   2, train:   0.426, val:    0.57\n",
      "Epoch   3, train:   0.324, val:    0.67\n",
      "Epoch   4, train:   0.233, val:   0.579\n",
      "Epoch   5, train:   0.189, val:   0.682\n",
      "Epoch   6, train:   0.157, val:    0.56\n",
      "Epoch   7, train:   0.137, val:   0.648\n",
      "Epoch   8, train:   0.128, val:   0.634\n",
      "Epoch   9, train:   0.113, val:    0.59\n"
     ]
    },
    {
     "data": {
      "text/html": [
       "Waiting for W&B process to finish... <strong style=\"color:green\">(success).</strong>"
      ],
      "text/plain": [
       "<IPython.core.display.HTML object>"
      ]
     },
     "metadata": {},
     "output_type": "display_data"
    },
    {
     "data": {
      "text/html": [
       "<style>\n",
       "    table.wandb td:nth-child(1) { padding: 0 10px; text-align: left ; width: auto;} td:nth-child(2) {text-align: left ; width: 100%}\n",
       "    .wandb-row { display: flex; flex-direction: row; flex-wrap: wrap; justify-content: flex-start; width: 100% }\n",
       "    .wandb-col { display: flex; flex-direction: column; flex-basis: 100%; flex: 1; padding: 10px; }\n",
       "    </style>\n",
       "<div class=\"wandb-row\"><div class=\"wandb-col\"><h3>Run history:</h3><br/><table class=\"wandb\"><tr><td>train_loss</td><td>█▆▅▄▃▂▂▁▁▁</td></tr><tr><td>val_loss</td><td>▅▁▂▇▂█▁▆▅▃</td></tr></table><br/></div><div class=\"wandb-col\"><h3>Run summary:</h3><br/><table class=\"wandb\"><tr><td>best_epoch</td><td>6</td></tr><tr><td>best_mse</td><td>0.56008</td></tr><tr><td>train_loss</td><td>0.11349</td></tr><tr><td>val_loss</td><td>0.59042</td></tr></table><br/></div></div>"
      ],
      "text/plain": [
       "<IPython.core.display.HTML object>"
      ]
     },
     "metadata": {},
     "output_type": "display_data"
    },
    {
     "data": {
      "text/html": [
       " View run <strong style=\"color:#cdcd00\">ML_test</strong> at: <a href='https://wandb.ai/kinya/ML-ENSO/runs/4h9ydou7' target=\"_blank\">https://wandb.ai/kinya/ML-ENSO/runs/4h9ydou7</a><br/>Synced 6 W&B file(s), 0 media file(s), 0 artifact file(s) and 0 other file(s)"
      ],
      "text/plain": [
       "<IPython.core.display.HTML object>"
      ]
     },
     "metadata": {},
     "output_type": "display_data"
    },
    {
     "data": {
      "text/html": [
       "Find logs at: <code>./wandb/run-20231120_102938-4h9ydou7/logs</code>"
      ],
      "text/plain": [
       "<IPython.core.display.HTML object>"
      ]
     },
     "metadata": {},
     "output_type": "display_data"
    },
    {
     "name": "stdout",
     "output_type": "stream",
     "text": [
      "CPU times: user 6min 4s, sys: 663 ms, total: 6min 5s\n",
      "Wall time: 6min 24s\n"
     ]
    }
   ],
   "source": [
    "%%time\n",
    "# Initialize wandb\n",
    "wandb.init(\n",
    "    project='ML-ENSO', config=hp,\n",
    "    name=exp,\n",
    ")\n",
    "\n",
    "# Save hyperparameters\n",
    "os.makedirs(out_dir, exist_ok=True)\n",
    "# torch.save(hp, f'{out_dir}/hyperparameters.pt')\n",
    "with open(f'{out_dir}/hyperparameters.json', 'w') as f:\n",
    "    json.dump(hp, f)\n",
    "\n",
    "# Train\n",
    "optimizer = torch.optim.Adam(model.parameters(), lr=hp.learning_rate) \n",
    "early_stopper = EarlyStopper(patience=10, min_delta=0.01, out_dir=out_dir)\n",
    "trainer = Trainer(\n",
    "    hp.n_epochs, model, device, optimizer, dataloaders,\n",
    "    t1_wgt, early_stopper,\n",
    ")\n",
    "history = trainer()\n",
    "\n",
    "# Save history\n",
    "history.astype('float').to_csv(f'{out_dir}/history.csv')\n",
    "\n",
    "# Close wandb run\n",
    "wandb.finish()"
   ]
  },
  {
   "cell_type": "code",
   "execution_count": null,
   "metadata": {},
   "outputs": [],
   "source": []
  }
 ],
 "metadata": {
  "kernelspec": {
   "display_name": "torch",
   "language": "python",
   "name": "python3"
  },
  "language_info": {
   "codemirror_mode": {
    "name": "ipython",
    "version": 3
   },
   "file_extension": ".py",
   "mimetype": "text/x-python",
   "name": "python",
   "nbconvert_exporter": "python",
   "pygments_lexer": "ipython3",
   "version": "3.11.4"
  },
  "orig_nbformat": 4
 },
 "nbformat": 4,
 "nbformat_minor": 2
}
