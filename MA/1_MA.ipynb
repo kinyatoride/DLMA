{
 "cells": [
  {
   "cell_type": "code",
   "execution_count": 1,
   "metadata": {},
   "outputs": [],
   "source": [
    "import os\n",
    "import sys\n",
    "import json\n",
    "import numpy as np\n",
    "import pandas as pd\n",
    "import xarray as xr\n",
    "\n",
    "module_path = os.path.abspath(os.path.join('../src'))\n",
    "if module_path not in sys.path:\n",
    "    sys.path.append(module_path)\n",
    "    \n",
    "from analog import *\n",
    "from utils import DotDict, to_monthly"
   ]
  },
  {
   "cell_type": "code",
   "execution_count": 2,
   "metadata": {},
   "outputs": [],
   "source": [
    "# Test data name and output directory\n",
    "test_data = 'test'\n",
    "out_dir = '../output/MA'\n",
    "\n",
    "# parameters\n",
    "param = {\n",
    "    'data_dir': '../data/cesm2',\n",
    "    'vnames': ['sst', 'ssh'],\n",
    "    'lat_slice': (-30, 30),\n",
    "    'periods': {\n",
    "        'library': (1865, 1958),\n",
    "        'target': (1986, 1998),\n",
    "    },    \n",
    "}\n",
    "param = DotDict(param)"
   ]
  },
  {
   "cell_type": "code",
   "execution_count": 3,
   "metadata": {},
   "outputs": [],
   "source": [
    "# load data\n",
    "flst = [f'{param.data_dir}/{vname}_anomaly_2x2.nc' for vname in param.vnames]\n",
    "ds = xr.open_mfdataset(flst)\n",
    "ds = ds.sel(lat=slice(*param.lat_slice))"
   ]
  },
  {
   "cell_type": "markdown",
   "metadata": {},
   "source": [
    "# Find model-analog indices\n",
    "\n",
    "If library contains (100 ensembles, 100 years),  \n",
    "- index 0 - (ensemble 1, year 1)  \n",
    "- index 1 - (ensemble 1, year 2)  \n",
    "- index 100 - (ensemble 2, year 1)  "
   ]
  },
  {
   "cell_type": "code",
   "execution_count": 4,
   "metadata": {},
   "outputs": [],
   "source": [
    "# to monthly\n",
    "ds_month = to_monthly(ds)\n",
    "\n",
    "# Weight by sqrt(cos(lat)) ~ sqrt(grid area)\n",
    "wgt = np.sqrt(np.cos(np.deg2rad(ds.lat)))\n",
    "ds_wgt = ds_month * wgt    \n",
    "\n",
    "# Scale by domain-averaged monthly std\n",
    "std = ds_wgt.var(dim=['ens', 'year']).mean(dim=['lat', 'lon']) ** 0.5\n",
    "ds_wgt_std = ds_wgt / std\n",
    "\n",
    "# Split data, stack the ens and year dimensions to a sample dimension\n",
    "t0_library = ds_wgt_std.sel(\n",
    "    year=slice(*param.periods.library)\n",
    ").stack(lsample=('ens', 'year')\n",
    "        ).to_array().transpose('lsample', ...).drop_vars('lsample')\n",
    "\n",
    "t0_target = ds_wgt_std.sel(\n",
    "    year=slice(*param.periods.target)\n",
    ").stack(sample=('ens', 'year')\n",
    "        ).to_array().transpose('sample', ...)  "
   ]
  },
  {
   "cell_type": "code",
   "execution_count": 5,
   "metadata": {},
   "outputs": [
    {
     "name": "stderr",
     "output_type": "stream",
     "text": [
      "/home/ktoride/.conda/envs/torch_py10/lib/python3.10/site-packages/dask/array/numpy_compat.py:43: RuntimeWarning: invalid value encountered in divide\n",
      "  x = np.divide(x1, x2, out)\n"
     ]
    },
    {
     "name": "stdout",
     "output_type": "stream",
     "text": [
      "CPU times: user 9h 30min 17s, sys: 5h 42min 16s, total: 15h 12min 33s\n",
      "Wall time: 13min 43s\n"
     ]
    }
   ],
   "source": [
    "%%time\n",
    "# t0 distance (mse)\n",
    "lst = [((t0_target.isel(sample=i) - t0_library) ** 2\n",
    "        ).sum(dim=['variable', 'lat', 'lon'])\n",
    "       for i in range(t0_target.sample.size)]    \n",
    "d0 = xr.concat(lst, dim='sample').compute()\n",
    "\n",
    "# sort along the last axis\n",
    "ma_idx = np.argsort(d0.data)\n",
    "\n",
    "# insample\n",
    "if param.periods.library == param.periods.target:\n",
    "    ma_idx = ma_idx[:, :, 1:]\n",
    "\n",
    "# To xarray\n",
    "ma_idx = xr.DataArray(\n",
    "    ma_idx[:, :, :1000], dims=['sample', 'month', 'analog'],\n",
    "    coords={'month': np.arange(1, 13),\n",
    "            'sample': t0_target['sample']}\n",
    ")"
   ]
  },
  {
   "cell_type": "code",
   "execution_count": 6,
   "metadata": {},
   "outputs": [],
   "source": [
    "# Save\n",
    "os.makedirs(out_dir, exist_ok=True)\n",
    "with open(f'{out_dir}/param_{test_data}.json', 'w') as f:\n",
    "    json.dump(param, f)\n",
    "    \n",
    "ma_idx.astype(float).unstack().astype(int).to_netcdf(f'{out_dir}/ma_index_{test_data}.nc')"
   ]
  },
  {
   "cell_type": "code",
   "execution_count": null,
   "metadata": {},
   "outputs": [],
   "source": []
  }
 ],
 "metadata": {
  "kernelspec": {
   "display_name": "Python 3",
   "language": "python",
   "name": "python3"
  },
  "language_info": {
   "codemirror_mode": {
    "name": "ipython",
    "version": 3
   },
   "file_extension": ".py",
   "mimetype": "text/x-python",
   "name": "python",
   "nbconvert_exporter": "python",
   "pygments_lexer": "ipython3",
   "version": "3.11.4"
  },
  "orig_nbformat": 4
 },
 "nbformat": 4,
 "nbformat_minor": 2
}
