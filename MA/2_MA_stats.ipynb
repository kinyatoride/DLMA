{
 "cells": [
  {
   "cell_type": "markdown",
   "metadata": {},
   "source": [
    "# Calculate forcast skills of MA"
   ]
  },
  {
   "cell_type": "code",
   "execution_count": 1,
   "metadata": {},
   "outputs": [],
   "source": [
    "import os\n",
    "import sys\n",
    "import json\n",
    "import numpy as np\n",
    "import pandas as pd\n",
    "import xarray as xr\n",
    "\n",
    "module_path = os.path.abspath(os.path.join('../src'))\n",
    "if module_path not in sys.path:\n",
    "    sys.path.append(module_path)\n",
    "    \n",
    "from analog import *\n",
    "from eval_pred import *\n",
    "from utils import DotDict, nino_indices\n",
    "\n",
    "%load_ext autoreload\n",
    "%autoreload 2"
   ]
  },
  {
   "cell_type": "code",
   "execution_count": 2,
   "metadata": {},
   "outputs": [],
   "source": [
    "# Parameters\n",
    "test_data = 'test'\n",
    "out_dir = '../output/MA'\n",
    "n_analog = 30\n",
    "leads = np.arange(19)\n",
    "vname = 'sst'\n",
    "\n",
    "# Target region to evaluate spatial skills\n",
    "lat_slice = (-10, 10)\n",
    "lon_slice = (120, 290)\n",
    "\n",
    "# Load additional parameters\n",
    "with open(f'{out_dir}/param_{test_data}.json', 'r') as f:\n",
    "    param = json.load(f)\n",
    "    param = DotDict(param)"
   ]
  },
  {
   "cell_type": "code",
   "execution_count": 5,
   "metadata": {},
   "outputs": [],
   "source": [
    "# load data\n",
    "if vname == 'pr':\n",
    "    grid = '2.5x2.5'\n",
    "else:\n",
    "    grid = '2x2'\n",
    "    \n",
    "f = f'{param.data_dir}/{vname}_anomaly_{grid}.nc'\n",
    "da = xr.open_dataarray(f)\n",
    "#da = da.sel(lat=slice(-10, 10))\n",
    "\n",
    "# load MA indices\n",
    "ma_idx = xr.open_dataarray(f'{out_dir}/ma_index_{test_data}.nc').compute()"
   ]
  },
  {
   "cell_type": "code",
   "execution_count": 7,
   "metadata": {},
   "outputs": [
    {
     "name": "stdout",
     "output_type": "stream",
     "text": [
      "CPU times: user 4min 50s, sys: 3min 10s, total: 8min 1s\n",
      "Wall time: 8min 32s\n"
     ]
    }
   ],
   "source": [
    "%%time\n",
    "# af = get_af(da, param.periods.library, ma_idx, n_analog, leads)  # Memory issue\n",
    "lst = []\n",
    "for lead in leads:\n",
    "    af = get_af(da, param.periods.library, ma_idx, n_analog, [lead])\n",
    "    lst.append(af.mean(dim='analog'))\n",
    "afm = xr.concat(lst, dim='lead')"
   ]
  },
  {
   "cell_type": "code",
   "execution_count": 5,
   "metadata": {},
   "outputs": [
    {
     "name": "stdout",
     "output_type": "stream",
     "text": [
      "All-month stats\n",
      "Monthly stats\n",
      "Spatial stats\n",
      "CPU times: user 1h 29min 44s, sys: 22min, total: 1h 51min 45s\n",
      "Wall time: 2h 2min 27s\n"
     ]
    }
   ],
   "source": [
    "%%time\n",
    "# All-month stats\n",
    "print('All-month stats')\n",
    "t_mse = eval_stats_lead(eval_mse, da, afm, dim=['ens', 'year', 'month'])\n",
    "t_uac = eval_stats_lead(eval_uac, da, afm, dim=['ens', 'year', 'month'])\n",
    "\n",
    "# Monthly stats\n",
    "print('Monthly stats')\n",
    "t_mse_month = eval_stats_lead(eval_mse, da, afm, dim=['ens', 'year'])\n",
    "t_uac_month = eval_stats_lead(eval_uac, da, afm, dim=['ens', 'year'])\n",
    "t_cac_month = eval_stats_lead(eval_r, da, afm, dim=['ens', 'year'])\n",
    "t_rmsss_month = eval_stats_lead(eval_rmsss, da, afm, dim=['ens', 'year'])\n",
    "t_msss_month = eval_stats_lead(eval_msss, da, afm, dim=['ens', 'year'])\n",
    "\n",
    "# Over the target region\n",
    "print('Spatial stats')\n",
    "xy_mse = eval_stats_lead(\n",
    "    eval_mse, da.sel(lat=slice(*lat_slice), lon=slice(*lon_slice)), afm, dim=['lat', 'lon'])\n",
    "xy_uac = eval_stats_lead(\n",
    "    eval_uac, da.sel(lat=slice(*lat_slice), lon=slice(*lon_slice)), afm, dim=['lat', 'lon'])"
   ]
  },
  {
   "cell_type": "code",
   "execution_count": 6,
   "metadata": {},
   "outputs": [],
   "source": [
    "# Combine\n",
    "t_stats = xr.merge([\n",
    "    t_mse.rename('mse').assign_attrs(long_name='Mean square error'), \n",
    "    t_uac.rename('uac').assign_attrs(long_name='Uncentered anomaly correlation')\n",
    "    ])\n",
    "\n",
    "t_stats_month = xr.merge([\n",
    "    t_mse_month.rename('mse').assign_attrs(long_name='Mean square error'), \n",
    "    t_uac_month.rename('uac').assign_attrs(long_name='Uncentered anomaly correlation'),\n",
    "    t_cac_month.rename('cac').assign_attrs(long_name='Centered anomaly correlation'),\n",
    "    t_rmsss_month.rename('rmsss').assign_attrs(long_name='Root mean square skill score'),\n",
    "    t_msss_month.rename('msss').assign_attrs(long_name='Mean square skill score'),\n",
    "    ])\n",
    "\n",
    "xy_stats = xr.merge([\n",
    "    xy_mse.rename('mse').assign_attrs(long_name='Mean square error'), \n",
    "    xy_uac.rename('uac').assign_attrs(long_name='Uncentered anomaly correlation')\n",
    "    ])"
   ]
  },
  {
   "cell_type": "code",
   "execution_count": 7,
   "metadata": {},
   "outputs": [],
   "source": [
    "# Save\n",
    "encoding = {key: {'dtype': 'float32'} for key in list(t_stats.keys())}\n",
    "t_stats.to_netcdf(f'{out_dir}/{vname}_t_stats_{test_data}.nc', encoding=encoding)\n",
    "\n",
    "encoding = {key: {'dtype': 'float32'} for key in list(t_stats_month.keys())}\n",
    "t_stats_month.to_netcdf(f'{out_dir}/{vname}_t_stats_month_{test_data}.nc', encoding=encoding)\n",
    "\n",
    "encoding = {key: {'dtype': 'float32'} for key in list(xy_stats.keys())}\n",
    "xy_stats.to_netcdf(f'{out_dir}/{vname}_xy_stats_{test_data}.nc', encoding=encoding)"
   ]
  },
  {
   "cell_type": "markdown",
   "metadata": {},
   "source": [
    "# Nino indices skills\n",
    "If vname == 'sst'"
   ]
  },
  {
   "cell_type": "code",
   "execution_count": 8,
   "metadata": {},
   "outputs": [
    {
     "name": "stdout",
     "output_type": "stream",
     "text": [
      "CPU times: user 2.52 s, sys: 5.94 s, total: 8.45 s\n",
      "Wall time: 9.04 s\n"
     ]
    }
   ],
   "source": [
    "%%time\n",
    "if vname == 'sst':\n",
    "    nino = nino_indices(da)\n",
    "    nino_af = get_af(nino, param.periods.library, ma_idx, n_analog, leads)\n",
    "    nino_afm = nino_af.mean(dim='analog')\n",
    "\n",
    "    nino_t_uac = eval_stats_lead(eval_uac, nino, nino_afm, dim=['ens', 'year', 'month'])\n",
    "    nino_t_uac_month = eval_stats_lead(eval_uac, nino, nino_afm, dim=['ens', 'year'])\n",
    "    nino_t_mse_month = eval_stats_lead(eval_mse, nino, nino_afm, dim=['ens', 'year'])\n",
    "    nino_t_rmsss_month = eval_stats_lead(eval_rmsss, nino, nino_afm, dim=['ens', 'year'])\n",
    "\n",
    "    # Save\n",
    "    encoding = {key: {'dtype': 'float32'} for key in list(nino.keys())}\n",
    "    nino_t_uac.to_netcdf(f'{out_dir}/nino_t_uac_{test_data}.nc', encoding=encoding)\n",
    "    nino_t_uac_month.to_netcdf(f'{out_dir}/nino_t_uac_month_{test_data}.nc', encoding=encoding)\n",
    "    nino_t_mse_month.to_netcdf(f'{out_dir}/nino_t_mse_month_{test_data}.nc', encoding=encoding)\n",
    "    nino_t_rmsss_month.to_netcdf(f'{out_dir}/nino_t_rmsss_month_{test_data}.nc', encoding=encoding)"
   ]
  }
 ],
 "metadata": {
  "kernelspec": {
   "display_name": "torch_py10",
   "language": "python",
   "name": "python3"
  },
  "language_info": {
   "codemirror_mode": {
    "name": "ipython",
    "version": 3
   },
   "file_extension": ".py",
   "mimetype": "text/x-python",
   "name": "python",
   "nbconvert_exporter": "python",
   "pygments_lexer": "ipython3",
   "version": "3.11.4"
  },
  "orig_nbformat": 4
 },
 "nbformat": 4,
 "nbformat_minor": 2
}
