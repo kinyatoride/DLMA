{
 "cells": [
  {
   "cell_type": "markdown",
   "metadata": {},
   "source": [
    "# Calculate forcast skills of MA"
   ]
  },
  {
   "cell_type": "code",
   "execution_count": 1,
   "metadata": {},
   "outputs": [],
   "source": [
    "import os\n",
    "import sys\n",
    "import json\n",
    "import numpy as np\n",
    "import pandas as pd\n",
    "import xarray as xr\n",
    "\n",
    "module_path = os.path.abspath(os.path.join('../src'))\n",
    "if module_path not in sys.path:\n",
    "    sys.path.append(module_path)\n",
    "    \n",
    "from analog import *\n",
    "from eval_pred import *\n",
    "from utils import DotDict, nino_indices\n",
    "\n",
    "%load_ext autoreload\n",
    "%autoreload 2"
   ]
  },
  {
   "cell_type": "code",
   "execution_count": 2,
   "metadata": {},
   "outputs": [],
   "source": [
    "# Parameters\n",
    "test_data = 'real'\n",
    "out_dir = '../output/MA'\n",
    "n_analog = 30\n",
    "vname = 'sst'\n",
    "\n",
    "# Target region to evaluate spatial skills\n",
    "lat_slice = (-10, 10)\n",
    "lon_slice = (120, 290)\n",
    "\n",
    "# Load additional parameters\n",
    "with open(f'{out_dir}/param_{test_data}.json', 'r') as f:\n",
    "    param = json.load(f)\n",
    "param = DotDict(param)\n",
    "\n",
    "if vname == 'pr':\n",
    "    grid = '2.5x2.5'\n",
    "    leads = np.arange(13)\n",
    "else:\n",
    "    grid = '2x2'\n",
    "    leads = np.arange(19)"
   ]
  },
  {
   "cell_type": "code",
   "execution_count": 3,
   "metadata": {},
   "outputs": [],
   "source": [
    "# load target data\n",
    "if vname == 'pr':\n",
    "    f = f'{param.data_dir}/{vname}_anomaly_{grid}_1987-2016.nc'\n",
    "else:\n",
    "    f = f'{param.data_dir}/{vname}_anomaly_{grid}.nc'\n",
    "ref = xr.open_dataarray(f)\n",
    "\n",
    "# load library\n",
    "f = f'{param.library_dir}/{vname}_anomaly_{grid}.nc'\n",
    "library = xr.open_dataarray(f)\n",
    "\n",
    "# region for evaluating skills\n",
    "# ref = ref.sel(lat=slice(-10, 10), lon=slice(120, 290))\n",
    "# library = library.sel(lat=slice(-10, 10), lon=slice(120, 290))\n",
    "\n",
    "# load MA indices\n",
    "ma_idx = xr.open_dataarray(f'{out_dir}/ma_index_{test_data}.nc')\n",
    "\n",
    "if vname == 'pr':\n",
    "    ma_idx = ma_idx.sel(year=slice(1987, 2015))"
   ]
  },
  {
   "cell_type": "code",
   "execution_count": 4,
   "metadata": {},
   "outputs": [
    {
     "name": "stdout",
     "output_type": "stream",
     "text": [
      "CPU times: user 16 s, sys: 57 s, total: 1min 13s\n",
      "Wall time: 1min 57s\n"
     ]
    }
   ],
   "source": [
    "%%time\n",
    "# Get analog forecasts\n",
    "af = get_af(library, param.periods.library, ma_idx, n_analog, leads)\n",
    "afm = af.mean(dim='analog')"
   ]
  },
  {
   "cell_type": "code",
   "execution_count": 5,
   "metadata": {},
   "outputs": [
    {
     "name": "stdout",
     "output_type": "stream",
     "text": [
      "CRPS\n",
      "Ensemble spread\n"
     ]
    },
    {
     "name": "stderr",
     "output_type": "stream",
     "text": [
      "/home/ktoride/.conda/envs/torch_py10/lib/python3.10/site-packages/xarray/core/nputils.py:177: RuntimeWarning: Degrees of freedom <= 0 for slice.\n",
      "  result = getattr(npmodule, name)(values, axis=axis, **kwargs)\n"
     ]
    },
    {
     "name": "stdout",
     "output_type": "stream",
     "text": [
      "CPU times: user 1min 1s, sys: 11.4 s, total: 1min 13s\n",
      "Wall time: 1min 13s\n"
     ]
    }
   ],
   "source": [
    "%%time\n",
    "# All-month stats\n",
    "t_mse = eval_stats_lead(eval_mse, ref, afm, dim=['year', 'month'])\n",
    "t_uac = eval_stats_lead(eval_uac, ref, afm, dim=['year', 'month'])\n",
    "\n",
    "# Monthly stats\n",
    "t_mse_month = eval_stats_lead(eval_mse, ref, afm, dim='year')\n",
    "t_uac_month = eval_stats_lead(eval_uac, ref, afm, dim='year')\n",
    "t_cac_month = eval_stats_lead(eval_r, ref, afm, dim='year')\n",
    "t_rmsss_month = eval_stats_lead(eval_rmsss, ref, afm, dim='year')\n",
    "t_msss_month = eval_stats_lead(eval_msss, ref, afm, dim='year')\n",
    "\n",
    "# Over the equatorial Pacific\n",
    "xy_mse = eval_stats_lead(\n",
    "    eval_mse, ref.sel(lat=slice(*lat_slice), lon=slice(*lon_slice)), afm, dim=['lat', 'lon'])\n",
    "xy_uac = eval_stats_lead(\n",
    "    eval_uac, ref.sel(lat=slice(*lat_slice), lon=slice(*lon_slice)), afm, dim=['lat', 'lon'])\n",
    "\n",
    "# Probablistic stats\n",
    "print('CRPS')\n",
    "t_crps_month = eval_stats_lead(\n",
    "    eval_crps_decomp, ref.sel(lat=slice(*lat_slice), lon=slice(*lon_slice)),\n",
    "    af.sel(lat=slice(*lat_slice), lon=slice(*lon_slice)), dim='year')\n",
    "\n",
    "# Ensemble spread (time-mean)\n",
    "print('Ensemble spread')\n",
    "t_std_month = af.var(dim='analog').mean(dim='year') ** 0.5\n",
    "t_std_month = t_std_month.rename('std').assign_attrs(long_name='Ensemble spread') "
   ]
  },
  {
   "cell_type": "code",
   "execution_count": 6,
   "metadata": {},
   "outputs": [],
   "source": [
    "# Combine\n",
    "t_stats = xr.merge([\n",
    "    t_mse.rename('mse').assign_attrs(long_name='Mean square error'), \n",
    "    t_uac.rename('uac').assign_attrs(long_name='Uncentered anomaly correlation')\n",
    "    ])\n",
    "\n",
    "t_stats_month = xr.merge([\n",
    "    t_mse_month.rename('mse').assign_attrs(long_name='Mean square error'), \n",
    "    t_uac_month.rename('uac').assign_attrs(long_name='Uncentered anomaly correlation'),\n",
    "    t_cac_month.rename('cac').assign_attrs(long_name='Centered anomaly correlation'),\n",
    "    t_rmsss_month.rename('rmsss').assign_attrs(long_name='Root mean square skill score'),\n",
    "    t_msss_month.rename('msss').assign_attrs(long_name='Mean square skill score'),\n",
    "    ])\n",
    "\n",
    "xy_stats = xr.merge([\n",
    "    xy_mse.rename('mse').assign_attrs(long_name='Mean square error'), \n",
    "    xy_uac.rename('uac').assign_attrs(long_name='Uncentered anomaly correlation')\n",
    "    ])"
   ]
  },
  {
   "cell_type": "code",
   "execution_count": 7,
   "metadata": {},
   "outputs": [],
   "source": [
    "# Save\n",
    "encoding = {key: {'dtype': 'float32'} for key in list(t_stats.keys())}\n",
    "t_stats.to_netcdf(f'{out_dir}/{vname}_t_stats_{test_data}.nc', encoding=encoding)\n",
    "\n",
    "encoding = {key: {'dtype': 'float32'} for key in list(t_stats_month.keys())}\n",
    "t_stats_month.to_netcdf(f'{out_dir}/{vname}_t_stats_month_{test_data}.nc', encoding=encoding)\n",
    "\n",
    "encoding = {key: {'dtype': 'float32'} for key in list(xy_stats.keys())}\n",
    "xy_stats.to_netcdf(f'{out_dir}/{vname}_xy_stats_{test_data}.nc', encoding=encoding)\n",
    "\n",
    "encoding = {key: {'dtype': 'float32'} for key in list(t_crps_month.keys())}\n",
    "t_crps_month.to_netcdf(f'{out_dir}/{vname}_t_crps_month_{test_data}.nc', encoding=encoding)\n",
    "\n",
    "encoding = {'std': {'dtype': 'float32'}}\n",
    "t_std_month.to_netcdf(f'{out_dir}/{vname}_t_std_month_{test_data}.nc', encoding=encoding)"
   ]
  },
  {
   "cell_type": "markdown",
   "metadata": {},
   "source": [
    "# Nino indices skills\n",
    "If vname == 'sst'"
   ]
  },
  {
   "cell_type": "code",
   "execution_count": 8,
   "metadata": {},
   "outputs": [
    {
     "name": "stdout",
     "output_type": "stream",
     "text": [
      "CPU times: user 3.37 s, sys: 10.9 s, total: 14.3 s\n",
      "Wall time: 15 s\n"
     ]
    }
   ],
   "source": [
    "%%time\n",
    "if vname == 'sst':\n",
    "    nino_ref = nino_indices(ref)\n",
    "    nino_library = nino_indices(library)\n",
    "\n",
    "    nino_af = get_af(nino_library, param.periods.library, ma_idx, n_analog, leads)\n",
    "    nino_afm = nino_af.mean(dim='analog')\n",
    "\n",
    "    nino_t_uac = eval_stats_lead(eval_uac, nino_ref, nino_afm, dim=['year', 'month'])\n",
    "    nino_t_uac_month = eval_stats_lead(eval_uac, nino_ref, nino_afm, dim='year')\n",
    "    nino_t_mse_month = eval_stats_lead(eval_mse, nino_ref, nino_afm, dim='year')\n",
    "    nino_t_rmsss_month = eval_stats_lead(eval_rmsss, nino_ref, nino_afm, dim='year')\n",
    "\n",
    "    nino_t_crps_month = eval_stats_lead(eval_crps_decomp, nino_ref['nino34'], nino_af['nino34'], dim='year')\n",
    "    nino_t_std_month = nino_af.var(dim='analog').mean(dim='year') ** 0.5\n",
    "\n",
    "    # Save\n",
    "    encoding = {key: {'dtype': 'float32'} for key in list(nino_ref.keys())}\n",
    "    nino_t_uac.to_netcdf(f'{out_dir}/nino_t_uac_{test_data}.nc', encoding=encoding)\n",
    "    nino_t_uac_month.to_netcdf(f'{out_dir}/nino_t_uac_month_{test_data}.nc', encoding=encoding)\n",
    "    nino_t_mse_month.to_netcdf(f'{out_dir}/nino_t_mse_month_{test_data}.nc', encoding=encoding)\n",
    "    nino_t_rmsss_month.to_netcdf(f'{out_dir}/nino_t_rmsss_month_{test_data}.nc', encoding=encoding)\n",
    "\n",
    "    nino_t_std_month.to_netcdf(f'{out_dir}/nino_t_std_month_{test_data}.nc', encoding=encoding)\n",
    "\n",
    "    encoding = {key: {'dtype': 'float32'} for key in list(nino_t_crps_month.keys())}\n",
    "    nino_t_crps_month.to_netcdf(f'{out_dir}/nino34_t_crps_month_{test_data}.nc', encoding=encoding)"
   ]
  },
  {
   "cell_type": "code",
   "execution_count": null,
   "metadata": {},
   "outputs": [],
   "source": []
  }
 ],
 "metadata": {
  "kernelspec": {
   "display_name": "torch_py10",
   "language": "python",
   "name": "python3"
  },
  "language_info": {
   "codemirror_mode": {
    "name": "ipython",
    "version": 3
   },
   "file_extension": ".py",
   "mimetype": "text/x-python",
   "name": "python",
   "nbconvert_exporter": "python",
   "pygments_lexer": "ipython3",
   "version": "3.10.11"
  },
  "orig_nbformat": 4
 },
 "nbformat": 4,
 "nbformat_minor": 2
}
